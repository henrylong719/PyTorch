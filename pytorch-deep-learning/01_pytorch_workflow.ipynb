{
 "cells": [
  {
   "cell_type": "markdown",
   "id": "2cac6d38",
   "metadata": {},
   "source": [
    "# Pytorch Workflow\n"
   ]
  },
  {
   "cell_type": "code",
   "execution_count": 17,
   "id": "b595bb74",
   "metadata": {},
   "outputs": [
    {
     "data": {
      "text/plain": [
       "(tensor([[0.0000],\n",
       "         [0.0200],\n",
       "         [0.0400],\n",
       "         [0.0600],\n",
       "         [0.0800],\n",
       "         [0.1000],\n",
       "         [0.1200],\n",
       "         [0.1400],\n",
       "         [0.1600],\n",
       "         [0.1800]]),\n",
       " tensor([[0.3000],\n",
       "         [0.3140],\n",
       "         [0.3280],\n",
       "         [0.3420],\n",
       "         [0.3560],\n",
       "         [0.3700],\n",
       "         [0.3840],\n",
       "         [0.3980],\n",
       "         [0.4120],\n",
       "         [0.4260]]))"
      ]
     },
     "execution_count": 17,
     "metadata": {},
     "output_type": "execute_result"
    }
   ],
   "source": [
    "import torch \n",
    "# nn contains all of PyTorch's building blocks for neural networks\n",
    "from torch import nn \n",
    "import matplotlib.pyplot as plt\n",
    "\n",
    "torch.__version__\n",
    "\n",
    "\n",
    "# 1. data (preparing and loading)\n",
    "# data can be almost anything... in machine learning.add()\n",
    "\n",
    "# Ecxel speardsheet\n",
    "# Image of any kind\n",
    "# Videos (YouTube has lots of data...)\n",
    "# Audio like songs or podcasts\n",
    "# DNA\n",
    "# Text\n",
    "\n",
    " \n",
    "# Create known parameters\n",
    "\n",
    "weight = 0.7\n",
    "bias = 0.3\n",
    "\n",
    "# Create\n",
    "start = 0\n",
    "end = 1\n",
    "step = 0.02\n",
    "X = torch.arange(start, end, step).unsqueeze(dim=1)\n",
    "y = weight * X + bias\n",
    "\n",
    "X[:10], y[:10]\n"
   ]
  },
  {
   "cell_type": "code",
   "execution_count": 18,
   "id": "5c4ad204",
   "metadata": {},
   "outputs": [
    {
     "data": {
      "text/plain": [
       "(50, 50)"
      ]
     },
     "execution_count": 18,
     "metadata": {},
     "output_type": "execute_result"
    }
   ],
   "source": [
    "len(X), len(y)"
   ]
  },
  {
   "cell_type": "markdown",
   "id": "6ef2c0e7",
   "metadata": {},
   "source": [
    "### Splitting data into training and test sets\n"
   ]
  },
  {
   "cell_type": "code",
   "execution_count": 19,
   "id": "db40d152",
   "metadata": {},
   "outputs": [
    {
     "data": {
      "text/plain": [
       "(40, 40, 10, 10)"
      ]
     },
     "execution_count": 19,
     "metadata": {},
     "output_type": "execute_result"
    }
   ],
   "source": [
    "# Create a train/test split\n",
    "\n",
    "train_split = int(0.8 * len(X))\n",
    "X_train, y_train = X[:train_split], y[:train_split]\n",
    "X_test, y_test = X[train_split:], y[train_split:]\n",
    "\n",
    "len(X_train), len(y_train), len(X_test), len(y_test)"
   ]
  },
  {
   "cell_type": "code",
   "execution_count": null,
   "id": "68a7aa2d",
   "metadata": {},
   "outputs": [
    {
     "data": {
      "image/png": "[encoded data removed]",
      "text/plain": [
       "<Figure size 1000x700 with 1 Axes>"
      ]
     },
     "metadata": {},
     "output_type": "display_data"
    }
   ],
   "source": [
    "def plot_predictions(train_data=X_train, train_labels=y_train, test_data=X_test, test_labels=y_test, predictions=None): # type: ignore\n",
    "    \n",
    "\t# Plots training data, test data and compares predictions. \n",
    "\tplt.figure(figsize=(10, 7)) # type: ignore\n",
    "\t# Plot training data in blue\n",
    "\tplt.scatter(train_data, train_labels, c=\"b\", s=4, label=\"Training data\") # type: ignore\n",
    "\t# Plot test data in green\n",
    "\tplt.scatter(test_data, test_labels, c=\"g\", s=4, label=\"Testing data\") # type: ignore\n",
    "\t# Are there predictions?\n",
    "\tif predictions is not None:\n",
    "\t# Plot the predictions if they exist\n",
    "\t\tplt.scatter(test_data, predictions, c=\"r\", s=4, label=\"Predictions\") # type: ignore\n",
    "\n",
    "\t# Show the legend\n",
    "\tplt.legend(prop={\"size\": 14}) # type: ignore\n",
    "    \n",
    "plot_predictions(); "
   ]
  },
  {
   "cell_type": "markdown",
   "id": "d2311873",
   "metadata": {},
   "source": [
    "### Build model\n"
   ]
  },
  {
   "cell_type": "code",
   "execution_count": 37,
   "id": "9d4a2b1e",
   "metadata": {},
   "outputs": [],
   "source": [
    "# Create linear regression model class\n",
    "\n",
    "# almost everything in PyTorch inherhits from nn.Module\n",
    "class LinearRegressionModel(nn.Module):\n",
    "    def __init__(self):\n",
    "        super().__init__() # type: ignore\n",
    "        self.weights = nn.Parameter(torch.randn(1, requires_grad=True, dtype=torch.float))\n",
    "        \n",
    "        self.bias = nn.Parameter(torch.randn(1, requires_grad=True, dtype=torch.float))\n",
    "        \n",
    "        # Forward method to define the computation in the model\n",
    "    def forward(self, x: torch.Tensor) -> torch.Tensor: # type: ignore\n",
    "        return self.weights * x + self.bias # type: ignore # this is the linear regression formula\n",
    "        "
   ]
  },
  {
   "cell_type": "code",
   "execution_count": null,
   "id": "0c58af4d",
   "metadata": {},
   "outputs": [
    {
     "data": {
      "text/plain": [
       "[Parameter containing:\n",
       " tensor([0.3367], requires_grad=True),\n",
       " Parameter containing:\n",
       " tensor([0.1288], requires_grad=True)]"
      ]
     },
     "execution_count": 38,
     "metadata": {},
     "output_type": "execute_result"
    }
   ],
   "source": [
    "# Checking the contents of our PyTorch model\n",
    "\n",
    "# Create a random seed\n",
    "torch.manual_seed(42) # type: ignore\n",
    "\n",
    "# Create an instance of the model (this is a subclass of nn.Module)\n",
    "model_0 = LinearRegressionModel()\n",
    "\n",
    "# Check out the parameters\n",
    "list(model_0.parameters())"
   ]
  },
  {
   "cell_type": "code",
   "execution_count": 39,
   "id": "ca68be07",
   "metadata": {},
   "outputs": [
    {
     "data": {
      "text/plain": [
       "OrderedDict([('weights', tensor([0.3367])), ('bias', tensor([0.1288]))])"
      ]
     },
     "execution_count": 39,
     "metadata": {},
     "output_type": "execute_result"
    }
   ],
   "source": [
    "# List named parameters\n",
    "model_0.state_dict()"
   ]
  },
  {
   "cell_type": "code",
   "execution_count": 45,
   "id": "de489c4b",
   "metadata": {},
   "outputs": [
    {
     "data": {
      "text/plain": [
       "tensor([[0.3982],\n",
       "        [0.4049],\n",
       "        [0.4116],\n",
       "        [0.4184],\n",
       "        [0.4251],\n",
       "        [0.4318],\n",
       "        [0.4386],\n",
       "        [0.4453],\n",
       "        [0.4520],\n",
       "        [0.4588]], grad_fn=<AddBackward0>)"
      ]
     },
     "execution_count": 45,
     "metadata": {},
     "output_type": "execute_result"
    }
   ],
   "source": [
    "y_preds = model_0(X_test)\n",
    "\n",
    "y_preds"
   ]
  },
  {
   "cell_type": "code",
   "execution_count": 48,
   "id": "58dbfb47",
   "metadata": {},
   "outputs": [
    {
     "data": {
      "text/plain": [
       "tensor([[0.3982],\n",
       "        [0.4049],\n",
       "        [0.4116],\n",
       "        [0.4184],\n",
       "        [0.4251],\n",
       "        [0.4318],\n",
       "        [0.4386],\n",
       "        [0.4453],\n",
       "        [0.4520],\n",
       "        [0.4588]])"
      ]
     },
     "execution_count": 48,
     "metadata": {},
     "output_type": "execute_result"
    }
   ],
   "source": [
    "# Make predictions with model\n",
    "\n",
    "with torch.inference_mode():\n",
    "    y_preds = model_0(X_test)\n",
    "    \n",
    "\n",
    "# You can also do something similar with torch.no_grad(), however, torch.inference_mode() is preferred\n",
    "# with torch.no_grad(): \n",
    "#     y_preds = model_0(X_test)\n",
    "\n",
    "\n",
    "y_preds"
   ]
  },
  {
   "cell_type": "code",
   "execution_count": 43,
   "id": "062e04c6",
   "metadata": {},
   "outputs": [
    {
     "data": {
      "image/png": "[encoded data removed]",
      "text/plain": [
       "<Figure size 1000x700 with 1 Axes>"
      ]
     },
     "metadata": {},
     "output_type": "display_data"
    }
   ],
   "source": [
    "plot_predictions(predictions=y_preds)"
   ]
  },
  {
   "cell_type": "code",
   "execution_count": 50,
   "id": "61726145",
   "metadata": {},
   "outputs": [],
   "source": [
    "# 3. Train model\n",
    "\n",
    "\n",
    "# Set up a loss function\n",
    "loss_fn = nn.L1Loss()\n",
    "\n",
    "# Setup an optimizer\n",
    "optimizer = torch.optim.SGD(model_0.parameters(), \n",
    "                            lr=0.01 #lr = learning rate\n",
    "                            )\n"
   ]
  },
  {
   "cell_type": "code",
   "execution_count": null,
   "id": "18fb6c99",
   "metadata": {},
   "outputs": [],
   "source": []
  }
 ],
 "metadata": {
  "kernelspec": {
   "display_name": ".venv",
   "language": "python",
   "name": "python3"
  },
  "language_info": {
   "codemirror_mode": {
    "name": "ipython",
    "version": 3
   },
   "file_extension": ".py",
   "mimetype": "text/x-python",
   "name": "python",
   "nbconvert_exporter": "python",
   "pygments_lexer": "ipython3",
   "version": "3.12.9"
  }
 },
 "nbformat": 4,
 "nbformat_minor": 5
}
